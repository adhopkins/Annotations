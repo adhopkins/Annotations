{
 "cells": [
  {
   "cell_type": "code",
   "execution_count": 1,
   "metadata": {},
   "outputs": [],
   "source": [
    "import pandas as pd\n",
    "import csv\n",
    "\n",
    "with open('CGP_9_annotation_run1.csv', 'r') as annot:\n",
    "    annot=annot.readlines()\n",
    "name=[]\n",
    "cat=[]\n",
    "start=[]\n",
    "stop=[]\n",
    "similarity1=[]\n",
    "similarity=[]\n",
    "referance1=[]\n",
    "referance=[]\n",
    "direction=[]\n",
    "#separating columns\n",
    "for line in annot[1:]:\n",
    "    cells=line.split(',')\n",
    "    name.append(cells[0])\n",
    "    cat.append(cells[1])\n",
    "    start.append(cells[2])\n",
    "    stop.append(cells[3])\n",
    "    similarity.append(cells[4])\n",
    "    referance.append(cells[5])\n",
    "    direction.append(cells[6])\n",
    "\n",
    "\n",
    "#taking first (highest) percentage and converting it to float    \n",
    "for i,j in enumerate(similarity):\n",
    "        sim=j.split('%')\n",
    "        similarity[i]=sim[0]    \n",
    "for i,j in enumerate(similarity):\n",
    "        similarity[i]=float(similarity[i]) \n",
    "\n",
    "#to keep only the first (highest rated) species\n",
    "for i,j in enumerate(referance):\n",
    "        sp=j.split(':')\n",
    "        referance[i]=sp[0]\n",
    "        \n",
    "#removing (\\n) line separaters from last column\n",
    "for i,j in enumerate(direction):\n",
    "        direction[i]=j[0]\n",
    "\n",
    "        \n",
    "        \n",
    "#pull carnegia and portulaca files\n",
    "total=[]\n",
    "port=[]\n",
    "carn=[]\n",
    "for i,j in enumerate(referance):\n",
    "    if referance[i].find('Carnegiea') != -1:\n",
    "        carn.append(i)\n",
    "for i,j in enumerate(referance):\n",
    "    if referance[i].find('Portulaca') != -1:\n",
    "        port.append(i)\n",
    "\n",
    "#if seperate annotations for portulaca and carnegia at the same gene, take highest similarity\n",
    "for x in carn:\n",
    "    carn_gene=name[x]\n",
    "    carn_sim=similarity[x]\n",
    "    for j,y in enumerate(port):\n",
    "        if name[y]==carn_gene and similarity[y]<=carn_sim:\n",
    "            port.pop(j)\n",
    "            break\n",
    "for x in port:\n",
    "    port_gene=name[x]\n",
    "    port_sim=similarity[x]\n",
    "    for j,y in enumerate(carn):\n",
    "        if name[y]==port_gene and similarity[y]<=port_sim:\n",
    "            carn.pop(j)\n",
    "            break\n",
    "\n",
    "          \n",
    "with open('output.csv','w') as output:\n",
    "    writer=csv.writer(output, dialect='excel')\n",
    "    for x in carn:\n",
    "        writer.writerow([name[x],cat[x],start[x],stop[x],similarity[x],referance[x],direction[x]])\n",
    "    for x in port:\n",
    "        writer.writerow([name[x],cat[x],start[x],stop[x],similarity[x],referance[x],direction[x]])\n"
   ]
  },
  {
   "cell_type": "code",
   "execution_count": 33,
   "metadata": {},
   "outputs": [
    {
     "data": {
      "text/plain": [
       "['excel', 'excel-tab', 'unix', 'myDialect']"
      ]
     },
     "execution_count": 33,
     "metadata": {},
     "output_type": "execute_result"
    }
   ],
   "source": [
    "import csv\n",
    "csv.list_dialects()"
   ]
  }
 ],
 "metadata": {
  "kernelspec": {
   "display_name": "Python 3",
   "language": "python",
   "name": "python3"
  },
  "language_info": {
   "codemirror_mode": {
    "name": "ipython",
    "version": 3
   },
   "file_extension": ".py",
   "mimetype": "text/x-python",
   "name": "python",
   "nbconvert_exporter": "python",
   "pygments_lexer": "ipython3",
   "version": "3.6.5"
  }
 },
 "nbformat": 4,
 "nbformat_minor": 2
}
